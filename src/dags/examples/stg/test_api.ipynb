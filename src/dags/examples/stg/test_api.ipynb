{
 "cells": [
  {
   "cell_type": "code",
   "execution_count": 1,
   "id": "626e2a25",
   "metadata": {},
   "outputs": [],
   "source": [
    "import sys\n",
    "sys.path.append('C:/dev/data-engeneer/s5-lessons/dags/')\n",
    "\n",
    "import api_conf as config\n",
    "from examples.stg.DeliveryServiceAPI import DeliveryServiceAPI"
   ]
  },
  {
   "cell_type": "code",
   "execution_count": 2,
   "id": "c478e745",
   "metadata": {},
   "outputs": [],
   "source": [
    "api = DeliveryServiceAPI(config.BASE_URL, headers=config.API_HEADERS)"
   ]
  },
  {
   "cell_type": "code",
   "execution_count": 3,
   "id": "832d0a68",
   "metadata": {},
   "outputs": [
    {
     "data": {
      "text/plain": [
       "[CurierObj(id='uwy8la31vk4epnj38ok1h1g', name='Александр Сидоров'),\n",
       " CurierObj(id='n9a9oz29zuub1n6otk9k0em', name='Александр Смирнов')]"
      ]
     },
     "execution_count": 3,
     "metadata": {},
     "output_type": "execute_result"
    }
   ],
   "source": [
    "curiers = api.list_curiers(2, 3)\n",
    "curiers"
   ]
  },
  {
   "cell_type": "code",
   "execution_count": 6,
   "id": "c3752eeb",
   "metadata": {},
   "outputs": [
    {
     "data": {
      "text/plain": [
       "dict"
      ]
     },
     "execution_count": 6,
     "metadata": {},
     "output_type": "execute_result"
    }
   ],
   "source": [
    "deliveries = api.list_deliveries(2, 3)\n",
    "type(deliveries[0].payload)"
   ]
  },
  {
   "cell_type": "code",
   "execution_count": null,
   "id": "fed35186",
   "metadata": {},
   "outputs": [],
   "source": []
  }
 ],
 "metadata": {
  "kernelspec": {
   "display_name": "venv",
   "language": "python",
   "name": "python3"
  },
  "language_info": {
   "codemirror_mode": {
    "name": "ipython",
    "version": 3
   },
   "file_extension": ".py",
   "mimetype": "text/x-python",
   "name": "python",
   "nbconvert_exporter": "python",
   "pygments_lexer": "ipython3",
   "version": "3.12.7"
  }
 },
 "nbformat": 4,
 "nbformat_minor": 5
}
